{
 "cells": [
  {
   "cell_type": "markdown",
   "id": "5268bd60",
   "metadata": {},
   "source": [
    "# Data Science Tools and Ecosystem"
   ]
  },
  {
   "cell_type": "markdown",
   "id": "0c545db6",
   "metadata": {},
   "source": [
    "In this notebook, Data Science Tools and Ecosystem are summarized."
   ]
  },
  {
   "cell_type": "markdown",
   "id": "80619182",
   "metadata": {},
   "source": [
    "**Objectives:**\n",
    "- Categories of Data Science Tools\n",
    "- Languages of Data Science\n",
    "- Introduction to python\n",
    "- Introduction to SQL\n",
    "- Libraries for Data Science\n",
    "- Introduction to Jupyter Notebooks\n",
    "- Introduction to R and Rstudio\n",
    "- Overview of Git/GitHub"
   ]
  },
  {
   "cell_type": "markdown",
   "id": "05a303f8",
   "metadata": {},
   "source": [
    "Some of the popular languages that Data Scientists use are:\n",
    "\n",
    "    1. Python\n",
    "    2. R programming Language\n",
    "    3. Structured query language (SQL)"
   ]
  },
  {
   "cell_type": "markdown",
   "id": "030a238a",
   "metadata": {},
   "source": [
    "Some of the commonly used libraries used by Data Scientists include:\n",
    "    \n",
    "    1. Panda \n",
    "    2. Matplotlib\n",
    "    3. NumPy\n",
    "    4. SciPy\n",
    "    "
   ]
  },
  {
   "cell_type": "markdown",
   "id": "b647b6aa",
   "metadata": {},
   "source": [
    " ## Table"
   ]
  },
  {
   "cell_type": "markdown",
   "id": "4484b844",
   "metadata": {},
   "source": [
    "|Data Science Tools|\n",
    "|------------------|\n",
    "|Jupyter notebook|\n",
    "|RStudio|\n",
    "| VS Code|"
   ]
  },
  {
   "cell_type": "markdown",
   "id": "8bd3b56e",
   "metadata": {},
   "source": [
    "### Below are a few examples of evaluating arithmetic expressions in Python"
   ]
  },
  {
   "cell_type": "code",
   "execution_count": 5,
   "id": "ae0c39ff",
   "metadata": {},
   "outputs": [
    {
     "name": "stdout",
     "output_type": "stream",
     "text": [
      "20\n",
      "12\n",
      "64\n",
      "4.0\n"
     ]
    }
   ],
   "source": [
    "a = 16 # Assigning Variables \n",
    "b = 4\n",
    "print(a+b) # Adding \n",
    "print(a-b) # subtracting \n",
    "print(a*b) # Multiplying\n",
    "print(a/b) # Division"
   ]
  },
  {
   "cell_type": "code",
   "execution_count": 9,
   "id": "84b8f2ed",
   "metadata": {},
   "outputs": [
    {
     "data": {
      "text/plain": [
       "17"
      ]
     },
     "execution_count": 9,
     "metadata": {},
     "output_type": "execute_result"
    }
   ],
   "source": [
    "# This will convert 200 minutes to hours by diving by 60 \n",
    "(3*4)+5"
   ]
  },
  {
   "cell_type": "code",
   "execution_count": 10,
   "id": "5b8a98de",
   "metadata": {},
   "outputs": [
    {
     "data": {
      "text/plain": [
       "3.3333333333333335"
      ]
     },
     "execution_count": 10,
     "metadata": {},
     "output_type": "execute_result"
    }
   ],
   "source": [
    "# This will convert 200 minutes to hours by diving by 60\n",
    "200/ 60 # as onr hour has 60 miuntes."
   ]
  },
  {
   "cell_type": "markdown",
   "id": "f6fe01c5",
   "metadata": {},
   "source": [
    "## Author\n",
    "Khadija Shahzadi "
   ]
  }
 ],
 "metadata": {
  "kernelspec": {
   "display_name": "Python 3 (ipykernel)",
   "language": "python",
   "name": "python3"
  },
  "language_info": {
   "codemirror_mode": {
    "name": "ipython",
    "version": 3
   },
   "file_extension": ".py",
   "mimetype": "text/x-python",
   "name": "python",
   "nbconvert_exporter": "python",
   "pygments_lexer": "ipython3",
   "version": "3.10.9"
  }
 },
 "nbformat": 4,
 "nbformat_minor": 5
}
